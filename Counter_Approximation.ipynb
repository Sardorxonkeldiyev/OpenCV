{
  "nbformat": 4,
  "nbformat_minor": 0,
  "metadata": {
    "colab": {
      "private_outputs": true,
      "provenance": [],
      "gpuType": "T4"
    },
    "kernelspec": {
      "name": "python3",
      "display_name": "Python 3"
    },
    "language_info": {
      "name": "python"
    },
    "accelerator": "GPU"
  },
  "cells": [
    {
      "cell_type": "code",
      "execution_count": null,
      "metadata": {
        "id": "Ffi_DJcOZB-2"
      },
      "outputs": [],
      "source": [
        "import matplotlib.pyplot as plt\n",
        "import numpy as np\n",
        "import cv2"
      ]
    },
    {
      "cell_type": "code",
      "source": [
        "def show(img):\n",
        "  plt.imshow(img,cmap='gray')\n",
        "  plt.show()"
      ],
      "metadata": {
        "id": "u_1p3LE5ZVrP"
      },
      "execution_count": null,
      "outputs": []
    },
    {
      "cell_type": "code",
      "source": [
        "def get_image(filename):\n",
        "  img = cv2.imread(filename)\n",
        "  img = cv2.cvtColor(img,cv2.COLOR_BGR2RGB)\n",
        "  gray = cv2.cvtColor(img,cv2.COLOR_RGB2GRAY)\n",
        "  return img, gray"
      ],
      "metadata": {
        "id": "4eYpZmD5Znfq"
      },
      "execution_count": null,
      "outputs": []
    },
    {
      "cell_type": "code",
      "source": [
        "img, gray = get_image('68-685252_imedia-pinkblob-blob-png.png')"
      ],
      "metadata": {
        "id": "AnnFzhUeaMbu"
      },
      "execution_count": null,
      "outputs": []
    },
    {
      "cell_type": "code",
      "source": [
        "show(img)"
      ],
      "metadata": {
        "id": "3hy15dwIajIG"
      },
      "execution_count": null,
      "outputs": []
    },
    {
      "cell_type": "code",
      "source": [
        "_,mask = cv2.threshold(gray,200,255,cv2.THRESH_BINARY_INV)\n"
      ],
      "metadata": {
        "id": "9Z4VuF1zamd5"
      },
      "execution_count": null,
      "outputs": []
    },
    {
      "cell_type": "code",
      "source": [
        "show(mask)"
      ],
      "metadata": {
        "id": "ctjIWCpAdBrm"
      },
      "execution_count": null,
      "outputs": []
    },
    {
      "cell_type": "code",
      "source": [
        "contours,_ = cv2.findContours(mask,cv2.RETR_TREE,cv2.CHAIN_APPROX_SIMPLE)"
      ],
      "metadata": {
        "id": "Xm8I0eIjdD_N"
      },
      "execution_count": null,
      "outputs": []
    },
    {
      "cell_type": "code",
      "source": [
        "len(contours)"
      ],
      "metadata": {
        "id": "S2eE0aZgdY9q"
      },
      "execution_count": null,
      "outputs": []
    },
    {
      "cell_type": "code",
      "source": [
        "def draw_contours(img,cnts):\n",
        "  for cnt in cnts:\n",
        "    x, y = cnt[0]\n",
        "    img = cv2.circle(img,(x,y),2,(255,0,0),2)\n",
        "  return img"
      ],
      "metadata": {
        "id": "Coeoh1lCdbkO"
      },
      "execution_count": null,
      "outputs": []
    },
    {
      "cell_type": "code",
      "source": [
        "img1 = img.copy()\n",
        "img1 = draw_contours(img1,contours[0])\n",
        "show(img1)"
      ],
      "metadata": {
        "id": "U8fbxgNLd5BK"
      },
      "execution_count": null,
      "outputs": []
    },
    {
      "cell_type": "code",
      "source": [
        "length = cv2.arcLength(contours[0],True)"
      ],
      "metadata": {
        "id": "uzu81m-JeGUw"
      },
      "execution_count": null,
      "outputs": []
    },
    {
      "cell_type": "code",
      "source": [
        "print(length)"
      ],
      "metadata": {
        "id": "946QZwa6eoiC"
      },
      "execution_count": null,
      "outputs": []
    },
    {
      "cell_type": "code",
      "source": [
        "approx = cv2.approxPolyDP(contours[0],length*0.005,True)\n",
        "img2 = img.copy()\n",
        "img2 = draw_contours(img2,approx)\n",
        "show(img2)"
      ],
      "metadata": {
        "id": "ckwyYv8Beqj-"
      },
      "execution_count": null,
      "outputs": []
    },
    {
      "cell_type": "code",
      "source": [],
      "metadata": {
        "id": "eIA1DdIHfID4"
      },
      "execution_count": null,
      "outputs": []
    }
  ]
}
